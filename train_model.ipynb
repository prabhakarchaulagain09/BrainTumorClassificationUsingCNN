{
 "cells": [
  {
   "cell_type": "code",
   "execution_count": null,
   "id": "9f65e6ec",
   "metadata": {},
   "outputs": [],
   "source": [
    "# Brain Tumor Classification (Multiclass) using CNN in TensorFlow/Keras"
   ]
  },
  {
   "cell_type": "code",
   "execution_count": null,
   "id": "c6b08633",
   "metadata": {},
   "outputs": [],
   "source": [
    "## 🧠 Step 1: Import Libraries\n",
    "import os\n",
    "import numpy as np\n",
    "import matplotlib.pyplot as plt\n",
    "import seaborn as sns\n",
    "from sklearn.model_selection import train_test_split\n",
    "from sklearn.metrics import classification_report, confusion_matrix"
   ]
  },
  {
   "cell_type": "code",
   "execution_count": null,
   "id": "d216b059",
   "metadata": {},
   "outputs": [],
   "source": [
    "import tensorflow as tf\n",
    "from tensorflow.keras.preprocessing.image import ImageDataGenerator\n",
    "from tensorflow.keras.utils import to_categorical\n",
    "from tensorflow.keras.models import Sequential\n",
    "from tensorflow.keras.layers import Conv2D, MaxPooling2D, Flatten, Dense, Dropout, BatchNormalization"
   ]
  },
  {
   "cell_type": "code",
   "execution_count": null,
   "id": "8ba507ed",
   "metadata": {},
   "outputs": [],
   "source": [
    "## 📁 Step 2: Set Dataset Path (Mount Google Drive or Upload)\n",
    "from google.colab import drive\n",
    "drive.mount('/content/drive')"
   ]
  },
  {
   "cell_type": "code",
   "execution_count": null,
   "id": "ab269b63",
   "metadata": {},
   "outputs": [],
   "source": [
    "# Update this path based on where your dataset is located in your Drive\n",
    "dataset_path = '/content/drive/MyDrive/Brain_Tumor_Dataset/'"
   ]
  },
  {
   "cell_type": "code",
   "execution_count": null,
   "id": "b87e8543",
   "metadata": {},
   "outputs": [],
   "source": [
    "## 🧼 Step 3: Data Preprocessing and Augmentation\n",
    "img_size = 150\n",
    "batch_size = 32"
   ]
  },
  {
   "cell_type": "code",
   "execution_count": null,
   "id": "e6b3165f",
   "metadata": {},
   "outputs": [],
   "source": [
    "datagen = ImageDataGenerator(\n",
    "    rescale=1./255,\n",
    "    validation_split=0.2,\n",
    "    horizontal_flip=True,\n",
    "    rotation_range=20,\n",
    "    zoom_range=0.15,\n",
    "    shear_range=0.1,\n",
    "    fill_mode=\"nearest\"\n",
    ")"
   ]
  },
  {
   "cell_type": "code",
   "execution_count": null,
   "id": "db7eff78",
   "metadata": {},
   "outputs": [],
   "source": [
    "train_data = datagen.flow_from_directory(\n",
    "    dataset_path,\n",
    "    target_size=(img_size, img_size),\n",
    "    batch_size=batch_size,\n",
    "    class_mode='categorical',\n",
    "    subset='training'\n",
    ")"
   ]
  },
  {
   "cell_type": "code",
   "execution_count": null,
   "id": "7252d6ed",
   "metadata": {},
   "outputs": [],
   "source": [
    "val_data = datagen.flow_from_directory(\n",
    "    dataset_path,\n",
    "    target_size=(img_size, img_size),\n",
    "    batch_size=batch_size,\n",
    "    class_mode='categorical',\n",
    "    subset='validation'\n",
    ")"
   ]
  },
  {
   "cell_type": "code",
   "execution_count": null,
   "id": "df6a6fab",
   "metadata": {},
   "outputs": [],
   "source": [
    "## 🧠 Step 4: Build CNN Model\n",
    "model = Sequential([\n",
    "    Conv2D(32, (3,3), activation='relu', input_shape=(img_size, img_size, 3)),\n",
    "    MaxPooling2D(2,2),\n",
    "    BatchNormalization(),"
   ]
  },
  {
   "cell_type": "code",
   "execution_count": null,
   "id": "dad94e09",
   "metadata": {},
   "outputs": [],
   "source": [
    "Conv2D(64, (3,3), activation='relu'),\n",
    "    MaxPooling2D(2,2),\n",
    "    BatchNormalization(),"
   ]
  },
  {
   "cell_type": "code",
   "execution_count": null,
   "id": "3a28317f",
   "metadata": {},
   "outputs": [],
   "source": [
    "Conv2D(128, (3,3), activation='relu'),\n",
    "    MaxPooling2D(2,2),\n",
    "    BatchNormalization(),"
   ]
  },
  {
   "cell_type": "code",
   "execution_count": null,
   "id": "85d1e8d3",
   "metadata": {},
   "outputs": [],
   "source": [
    "Flatten(),\n",
    "    Dense(128, activation='relu'),\n",
    "    Dropout(0.5),\n",
    "    Dense(4, activation='softmax')\n",
    "])"
   ]
  },
  {
   "cell_type": "code",
   "execution_count": null,
   "id": "ce010976",
   "metadata": {},
   "outputs": [],
   "source": [
    "model.compile(optimizer='adam',\n",
    "              loss='categorical_crossentropy',\n",
    "              metrics=['accuracy'])"
   ]
  },
  {
   "cell_type": "code",
   "execution_count": null,
   "id": "83070002",
   "metadata": {},
   "outputs": [],
   "source": [
    "model.summary()"
   ]
  },
  {
   "cell_type": "code",
   "execution_count": null,
   "id": "c50c2841",
   "metadata": {},
   "outputs": [],
   "source": [
    "## 🏋️ Step 5: Train the Model\n",
    "history = model.fit(\n",
    "    train_data,\n",
    "    validation_data=val_data,\n",
    "    epochs=15\n",
    ")"
   ]
  },
  {
   "cell_type": "code",
   "execution_count": null,
   "id": "eb2420d9",
   "metadata": {},
   "outputs": [],
   "source": [
    "## 💾 Step 6: Save the Model\n",
    "model.save(\"brain_tumor_model.h5\")"
   ]
  },
  {
   "cell_type": "code",
   "execution_count": null,
   "id": "b2df0003",
   "metadata": {},
   "outputs": [],
   "source": [
    "## 📈 Step 7: Plot Accuracy and Loss\n",
    "plt.figure(figsize=(12,5))\n",
    "plt.subplot(1,2,1)\n",
    "plt.plot(history.history['accuracy'], label='Training Accuracy')\n",
    "plt.plot(history.history['val_accuracy'], label='Validation Accuracy')\n",
    "plt.legend()\n",
    "plt.title('Accuracy')"
   ]
  },
  {
   "cell_type": "code",
   "execution_count": null,
   "id": "dc05915a",
   "metadata": {},
   "outputs": [],
   "source": [
    "plt.subplot(1,2,2)\n",
    "plt.plot(history.history['loss'], label='Training Loss')\n",
    "plt.plot(history.history['val_loss'], label='Validation Loss')\n",
    "plt.legend()\n",
    "plt.title('Loss')"
   ]
  },
  {
   "cell_type": "code",
   "execution_count": null,
   "id": "42a709fd",
   "metadata": {},
   "outputs": [],
   "source": [
    "plt.show()"
   ]
  },
  {
   "cell_type": "code",
   "execution_count": null,
   "id": "1f0fb68e",
   "metadata": {},
   "outputs": [],
   "source": [
    "## 🔍 Step 8: Evaluation with Confusion Matrix\n",
    "# Predict a batch from validation data\n",
    "val_data.reset()\n",
    "Y_pred = model.predict(val_data)\n",
    "y_pred = np.argmax(Y_pred, axis=1)\n",
    "y_true = val_data.classes"
   ]
  },
  {
   "cell_type": "code",
   "execution_count": null,
   "id": "5d40ff26",
   "metadata": {},
   "outputs": [],
   "source": [
    "cm = confusion_matrix(y_true, y_pred)\n",
    "class_labels = list(val_data.class_indices.keys())"
   ]
  },
  {
   "cell_type": "code",
   "execution_count": null,
   "id": "00a50217",
   "metadata": {},
   "outputs": [],
   "source": [
    "plt.figure(figsize=(8,6))\n",
    "sns.heatmap(cm, annot=True, fmt='d', xticklabels=class_labels, yticklabels=class_labels, cmap=\"Blues\")\n",
    "plt.xlabel('Predicted')\n",
    "plt.ylabel('True')\n",
    "plt.title('Confusion Matrix')\n",
    "plt.show()"
   ]
  },
  {
   "cell_type": "code",
   "execution_count": null,
   "id": "d4b9f914",
   "metadata": {},
   "outputs": [],
   "source": [
    "print(classification_report(y_true, y_pred, target_names=class_labels))"
   ]
  }
 ],
 "metadata": {},
 "nbformat": 4,
 "nbformat_minor": 5
}
